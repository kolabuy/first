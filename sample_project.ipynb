{
 "cells": [
  {
   "cell_type": "markdown",
   "id": "bb8d0210-65a8-4639-b536-347a84d9d8d6",
   "metadata": {},
   "source": [
    "Я работаю в добывающей компании «ГлавРосГосНефть». Руководству компании, с моей помощью нужно решить, где бурить новую скважину.\n",
    "\n",
    "Мне предоставили пробы нефти в трёх регионах, в каждом находится по 10 000 месторождений. В каждой пробе измерили качество нефти и объём её запасов. Нужно построить модель машинного обучения, которая поможет определить регион, где добыча принесёт наибольшую прибыль. Необходимо проанализировать возможную прибыль и риски техникой Bootstrap.\n",
    "\n",
    "Шаги для выбора локации:\n",
    "\n",
    "- В избранном регионе ищут месторождения, для каждого определяют значения признаков;\n",
    "- Строят модель и оценивают объём запасов;\n",
    "- Выбирают месторождения с самым высокими оценками значений. Количество месторождений зависит от бюджета компании \n",
    "  и стоимости разработки одной скважины;\n",
    "- Прибыль равна суммарной прибыли отобранных месторождений.\n",
    "Описание данных:\n",
    "\n",
    "Данные геологоразведки трёх регионов находятся в файлах:\n",
    "\n",
    "/datasets/geo_data_0.csv\n",
    "/datasets/geo_data_1.csv\n",
    "/datasets/geo_data_2.csv\n",
    "Для упрощения:\n",
    "\n",
    "- будем называть регионы месторождениями нефти\n",
    "- порядковый номер месторождений сохраним так же как и названия файлов трех регионов: 0, 1, 2.\n",
    "Признаки:\n",
    "\n",
    "id — уникальный идентификатор скважины;\n",
    "f0, f1, f2 — три признака точек (неважно, что они означают, но сами признаки значимы);\n",
    "product — объём запасов в скважине (тыс. баррелей)."
   ]
  },
  {
   "cell_type": "markdown",
   "id": "39603182-1bd0-4940-b611-245c8a79aca1",
   "metadata": {},
   "source": [
    "1  Шаг. Загрузка и подготовка данных"
   ]
  },
  {
   "cell_type": "markdown",
   "id": "e5ffe6a3-2bc5-4cba-8c03-e58f43c5846d",
   "metadata": {},
   "source": [
    "Устанавливаем новые и обновляем уже имеющиеся библиотеки в целях их совместной корректной работы с визуализацией и при взаимодействии с моделями. Не отображаем процесс инсталляции для экономии места."
   ]
  },
  {
   "cell_type": "markdown",
   "id": "b92cfe1a-db15-4595-a1d0-eddd6c33582c",
   "metadata": {},
   "source": [
    "Импортируем библиотеки"
   ]
  },
  {
   "cell_type": "code",
   "execution_count": null,
   "id": "78969ed3-633c-4589-b594-3c5f4d8a4a94",
   "metadata": {},
   "outputs": [],
   "source": [
    "import numpy as np\n",
    "import pandas as pd\n",
    "import seaborn as sn\n",
    "import os\n",
    "import phik\n",
    "import warnings\n",
    "from phik.report import plot_correlation_matrix\n",
    "from phik import report                        \n",
    "from matplotlib import pyplot as plt\n",
    "from sklearn.linear_model import LinearRegression\n",
    "from sklearn.preprocessing import StandardScaler\n",
    "from sklearn.model_selection import train_test_split \n",
    "from sklearn.metrics import mean_squared_error"
   ]
  },
  {
   "cell_type": "markdown",
   "id": "5c52b8f0-cd3d-4118-912f-0ffeed9c17ca",
   "metadata": {},
   "source": [
    "Считаем файлы данных и сохраним их в датафреймы. Поиск пути к файлам работает как для \"Юпитера\", как и для локального положения."
   ]
  },
  {
   "cell_type": "code",
   "execution_count": null,
   "id": "48eccf1c-d20f-4556-b126-a085d5cb1779",
   "metadata": {},
   "outputs": [],
   "source": [
    "pth1j = '/datasets/geo_data_0.csv'\n",
    "pth1 = 'geo_data_0.csv'\n",
    "pth2j = '/datasets/geo_data_1.csv'\n",
    "pth2 = 'geo_data_1.csv'\n",
    "pth3j = '/datasets/geo_data_2.csv'\n",
    "pth3 = 'geo_data_2.csv'\n",
    "\n",
    "if os.path.exists(pth1j):\n",
    "    data0 = pd.read_csv(pth1j)\n",
    "elif os.path.exists(pth1):\n",
    "    data0 = pd.read_csv(pth1)\n",
    "else:\n",
    "    print('Something go wrong with path №1')\n",
    "    \n",
    "if os.path.exists(pth2j):\n",
    "    data1 = pd.read_csv(pth2j)\n",
    "elif os.path.exists(pth2):\n",
    "    data1 = pd.read_csv(pth2)\n",
    "else:\n",
    "    print('Something go wrong with path №2')\n",
    "    \n",
    "if os.path.exists(pth3j):\n",
    "    data2 = pd.read_csv(pth3j)\n",
    "elif os.path.exists(pth3):\n",
    "    data2 = pd.read_csv(pth3)\n",
    "else:\n",
    "    print('Something go wrong with path №3')"
   ]
  },
  {
   "cell_type": "markdown",
   "id": "4fde8c1f-b517-49a5-8128-1f79100231a2",
   "metadata": {},
   "source": [
    "Для удобства установим внутренний индекс как колонку id для каждого датафрейма."
   ]
  },
  {
   "cell_type": "code",
   "execution_count": null,
   "id": "4be309fe-1d20-46e0-aba9-f404b3171171",
   "metadata": {},
   "outputs": [],
   "source": [
    "data0 = data0.set_index('id')\n",
    "data1 = data1.set_index('id')\n",
    "data2 = data2.set_index('id')"
   ]
  },
  {
   "cell_type": "markdown",
   "id": "9331fa27-477c-47ed-b7ee-2e256da6bbc9",
   "metadata": {},
   "source": [
    "Проверим, что данные в датафреймах соответствуют описанию:"
   ]
  },
  {
   "cell_type": "code",
   "execution_count": null,
   "id": "b9486b81-88d1-447a-b12b-0469882b534d",
   "metadata": {},
   "outputs": [],
   "source": [
    "print('')\n",
    "print('\\033[1m','Данные геологоразведки первого региона')\n",
    "data0.head()"
   ]
  },
  {
   "cell_type": "code",
   "execution_count": null,
   "id": "0ceffd4e-7fc0-4dd6-a722-c03ea83845f0",
   "metadata": {},
   "outputs": [],
   "source": [
    "data0.info()"
   ]
  },
  {
   "cell_type": "code",
   "execution_count": null,
   "id": "86b7346a-e870-4d5e-b46f-8817ac24e2fe",
   "metadata": {},
   "outputs": [],
   "source": [
    "data0.duplicated().sum()\n",
    "np.int64(0)\n",
    "print('')\n",
    "print('\\033[1m','Данные геологоразведки второго региона')\n",
    "data1.head()"
   ]
  },
  {
   "cell_type": "code",
   "execution_count": null,
   "id": "3d120479-6eec-4bc5-a83c-d754795853e6",
   "metadata": {},
   "outputs": [],
   "source": [
    "data1.duplicated().sum()\n",
    "np.int64(0)\n",
    "print('')\n",
    "print('\\033[1m','Данные геологоразведки третьего региона')"
   ]
  },
  {
   "cell_type": "code",
   "execution_count": null,
   "id": "05050b89-b999-40f2-a521-495de119c555",
   "metadata": {},
   "outputs": [],
   "source": [
    "data2.head()"
   ]
  },
  {
   "cell_type": "code",
   "execution_count": null,
   "id": "11ca1bb0-a10e-40bc-a180-c0921dd822ea",
   "metadata": {},
   "outputs": [],
   "source": [
    "data2.info()"
   ]
  },
  {
   "cell_type": "code",
   "execution_count": null,
   "id": "c036f1c0-99a1-4244-970d-06cf6c048a3d",
   "metadata": {},
   "outputs": [],
   "source": [
    "data2.duplicated().sum()\n",
    "np.int64(0)"
   ]
  },
  {
   "cell_type": "markdown",
   "id": "c697b189-1000-4df1-9784-7d9aa7a47a53",
   "metadata": {},
   "source": [
    "Напишем функцию для попарного вывода гистограммы и боксплота каждого из признаков в наших датафреймах:"
   ]
  },
  {
   "cell_type": "code",
   "execution_count": null,
   "id": "63fb14ae-53de-4879-9711-254a16503d48",
   "metadata": {},
   "outputs": [],
   "source": [
    "def plotandbox(data, feature, hist_color='darkslategray'):\n",
    "    fig, axs = plt.subplots(nrows = 1 , ncols = 2, figsize = (12, 4))\n",
    "    sn.histplot(data = data, x = feature, ax=axs[0], bins = 50, kde=True, color=hist_color, edgecolor='black')\n",
    "    axs[0].set_xlabel(feature)\n",
    "    axs[0].set_ylabel('частота')\n",
    "    sn.boxplot(data = data, x = feature, ax=axs[1], color='azure')\n",
    "    axs[1].set_xlabel(feature)\n",
    "    fig.suptitle(f'Анализ распределения {feature}')\n",
    "    plt.show()"
   ]
  },
  {
   "cell_type": "markdown",
   "id": "825d922b-ef2e-45d1-bb7b-8bf1ec1c1577",
   "metadata": {},
   "source": [
    "Графический анализ данных"
   ]
  },
  {
   "cell_type": "code",
   "execution_count": null,
   "id": "22b55cd3-e6ef-425c-891a-d2284ad42862",
   "metadata": {},
   "outputs": [],
   "source": [
    "data0.describe()"
   ]
  },
  {
   "cell_type": "code",
   "execution_count": null,
   "id": "e1326daa-9541-471a-8080-d3295ab06ab6",
   "metadata": {},
   "outputs": [],
   "source": [
    "plotandbox(data0, 'f0')\n",
    "plotandbox(data0, 'f1', 'plum')\n",
    "plotandbox(data0, 'f2', 'sandybrown')\n",
    "plotandbox(data0, 'product', 'cadetblue')"
   ]
  },
  {
   "cell_type": "markdown",
   "id": "b1fbde18-602a-4bf1-9dc0-d28e4ae5082e",
   "metadata": {},
   "source": [
    "Вывод:\n",
    "- у признака f2 замечены \"усы\"\n",
    "- думаю что усы можно не обрезать, что бы сохранить количественное единообразие данных\n",
    "data1.describe()"
   ]
  },
  {
   "cell_type": "code",
   "execution_count": null,
   "id": "999d339a-264a-4346-a322-463e91de423b",
   "metadata": {},
   "outputs": [],
   "source": [
    "plotandbox(data1, 'f0')\n",
    "plotandbox(data1, 'f1', 'plum')\n",
    "plotandbox(data1, 'f2', 'sandybrown')\n",
    "plotandbox(data1, 'product', 'cadetblue')"
   ]
  },
  {
   "cell_type": "markdown",
   "id": "4672f1ed-8673-4189-ba49-050f03620004",
   "metadata": {},
   "source": [
    "Вывод:\n",
    "- у признака f1 замечены \"усы\"\n",
    "- странный, периодический характер данных гистограмм f2 и product - это не выбросы\n",
    "- замечено сильное внешнее сходство гистограмм признака f2 и целевого признака product\n",
    "- все значения признаков f2 и product выстроились по шести кластерам, встречаемость их выше почти в 3 раза"
   ]
  },
  {
   "cell_type": "code",
   "execution_count": null,
   "id": "fe4d4f58-cf32-470f-804a-780f25087d09",
   "metadata": {},
   "outputs": [],
   "source": [
    "data2.describe()"
   ]
  },
  {
   "cell_type": "code",
   "execution_count": null,
   "id": "ce66a0e6-5a7c-4a72-828f-a36fda92f4a5",
   "metadata": {},
   "outputs": [],
   "source": [
    "plotandbox(data2, 'f0')\n",
    "plotandbox(data2, 'f1', 'plum')\n",
    "plotandbox(data2, 'f2', 'sandybrown')\n",
    "plotandbox(data2, 'product', 'cadetblue')"
   ]
  },
  {
   "cell_type": "markdown",
   "id": "bf0bf838-3db8-4be9-b739-3dec562ba5de",
   "metadata": {},
   "source": [
    "Вывод:\n",
    "- в data2 у всех признаков кроме целевого замечены \"усы\"\n",
    "- думаю что усы можно не обрезать, что бы сохранить количественное единообразие данных"
   ]
  },
  {
   "cell_type": "markdown",
   "id": "d7435e05-6525-4aab-ba3a-51d220c57238",
   "metadata": {},
   "source": [
    "Корреляционный анализ данных"
   ]
  },
  {
   "cell_type": "markdown",
   "id": "c2c07dbe-0462-4188-b953-322949fabaab",
   "metadata": {},
   "source": [
    "Напишем функцию для вывода корреляций наших датафреймов:"
   ]
  },
  {
   "cell_type": "code",
   "execution_count": null,
   "id": "781dfb0e-211e-4fad-ae0a-a15e81f8a270",
   "metadata": {},
   "outputs": [],
   "source": [
    "def corephima(dataframe_name, interval_cols=['f0', 'f1', 'f2', 'product'], title=r\"корреляция\", fontsize_factor=1.5, figsize=(6, 4)):\n",
    "    phik_overview = dataframe_name.phik_matrix(interval_cols)\n",
    "    plot_correlation_matrix(\n",
    "        phik_overview.values,\n",
    "        x_labels=phik_overview.columns,\n",
    "        y_labels=phik_overview.index,\n",
    "        title=title,\n",
    "        fontsize_factor=fontsize_factor,\n",
    "        figsize=figsize\n",
    "    )"
   ]
  },
  {
   "cell_type": "code",
   "execution_count": null,
   "id": "024401b6-23aa-42ea-8db8-f3431dc837f5",
   "metadata": {},
   "outputs": [],
   "source": [
    "corephima(data0)"
   ]
  },
  {
   "cell_type": "markdown",
   "id": "dcf80676-2686-44a7-a2e4-3d5b43679504",
   "metadata": {},
   "source": [
    "Выводы:\n",
    "- Сильная прямая корреляция у f1 и f0.\n",
    "- Негативных моментов потенциально влияющих на модель - не замечено."
   ]
  },
  {
   "cell_type": "code",
   "execution_count": null,
   "id": "1f0335d2-4c24-4ac1-a177-7fb7f1675c9f",
   "metadata": {},
   "outputs": [],
   "source": [
    "corephima(data1)"
   ]
  },
  {
   "cell_type": "markdown",
   "id": "d85a1f19-73e1-49bb-ad31-507cbc3efbd1",
   "metadata": {},
   "source": [
    "Самым значимым признаком в data1 является f2:\n",
    "\n",
    "- вероятнее всего, он будет играть основную роль в предсказаниях\n",
    "- модель может стать менее робастной, если признак содержит шум или выбросы\n",
    "- считаем что мультиколлинеарности нет, так как нет других сильных связей с f0 и f1"
   ]
  },
  {
   "cell_type": "code",
   "execution_count": null,
   "id": "685bc132-bc00-4081-b57e-a8ec8ccfd4f5",
   "metadata": {},
   "outputs": [],
   "source": [
    "corephima(data2)"
   ]
  },
  {
   "cell_type": "markdown",
   "id": "b2bb2954-c593-4761-966a-e76f5a496eb3",
   "metadata": {},
   "source": [
    "- Негативных моментов потенциально влияющих на модель исходя из анализа корреляций - не замечено."
   ]
  },
  {
   "cell_type": "markdown",
   "id": "b4acbef5-157c-4825-94ab-bd2a9e59fe6c",
   "metadata": {},
   "source": [
    "Выводы по ШАГУ-1:\n",
    "- импортированы необходимые библиотеки\n",
    "- колонку id установили в качестве внутреннего индекса, для удобства\n",
    "- ознакомились с датасетами: тип данных - везде вещественный, тип переменной - везде количественный\n",
    "- датасеты проверены на пропуски и дубликаты, которых обнаружено не было."
   ]
  },
  {
   "cell_type": "markdown",
   "id": "b89b4067-8980-4ca1-a624-3bbb1292f4e6",
   "metadata": {},
   "source": [
    "2  Шаг. Обучение и проверка модели"
   ]
  },
  {
   "cell_type": "code",
   "execution_count": null,
   "id": "cc514599-2d88-49fb-82d7-dc6964c2638e",
   "metadata": {},
   "outputs": [],
   "source": [
    "warnings.filterwarnings(\"ignore\")\n",
    "\n",
    "RANDOM_STATE = 42\n",
    "X0 = data0.drop('product', axis = 1)\n",
    "y0 = data0['product']\n",
    "X0_train, X0_valid, y0_train, y0_valid = train_test_split(X0, y0, test_size=0.25, random_state=RANDOM_STATE) \n",
    "scaler0 = StandardScaler()\n",
    "X0_train_scaler = scaler0.fit_transform(X0_train)\n",
    "X0_valid_scaler = scaler0.transform(X0_valid)\n",
    "model0 = LinearRegression()\n",
    "model0.fit(X0_train_scaler, y0_train)\n",
    "predict0 = model0.predict(X0_valid_scaler)\n",
    "mean0 = predict0.mean()\n",
    "rmse0 = mean_squared_error(y0_valid, predict0, squared=False)\n",
    "print(f'Средний запас предсказанного сырья: {mean0}, значение метрики RMSE: {rmse0}')"
   ]
  },
  {
   "cell_type": "markdown",
   "id": "472d1f9b-5901-4646-ac99-ca7649b6e90d",
   "metadata": {},
   "source": [
    "data1:"
   ]
  },
  {
   "cell_type": "code",
   "execution_count": null,
   "id": "ae616026-4d58-4922-84d4-53867115de44",
   "metadata": {},
   "outputs": [],
   "source": [
    "X1 = data1.drop('product', axis = 1)\n",
    "y1 = data1['product']\n",
    "X1_train, X1_valid, y1_train, y1_valid = train_test_split(\n",
    "        X1, \n",
    "        y1, \n",
    "        test_size=0.25,\n",
    "        random_state=RANDOM_STATE\n",
    ") \n",
    "scaler1 = StandardScaler()\n",
    "X1_train_scaler = scaler1.fit_transform(X1_train)\n",
    "X1_valid_scaler = scaler1.transform(X1_valid)\n",
    "model1 = LinearRegression()\n",
    "model1.fit(X1_train_scaler, y1_train)\n",
    "predict1 = model1.predict(X1_valid_scaler)\n",
    "mean1 = predict1.mean()\n",
    "rmse1 = mean_squared_error(y1_valid, predict1, squared=False)\n",
    "print(f'Средний запас предсказанного сырья: {mean1}, значение метрики RMSE: {rmse1}')"
   ]
  },
  {
   "cell_type": "markdown",
   "id": "c70507f8-e580-4a9f-99ee-6ffb81bd3fa4",
   "metadata": {},
   "source": [
    "data2:"
   ]
  },
  {
   "cell_type": "code",
   "execution_count": null,
   "id": "70720bbb-0479-462c-82dc-7e761f59c7a9",
   "metadata": {},
   "outputs": [],
   "source": [
    "X2 = data2.drop('product', axis = 1)\n",
    "y2 = data2['product']\n",
    "X2_train, X2_valid, y2_train, y2_valid = train_test_split(\n",
    "        X2, \n",
    "        y2, \n",
    "        test_size=0.25,\n",
    "        random_state=RANDOM_STATE\n",
    ") \n",
    "scaler2 = StandardScaler()\n",
    "X2_train_scaler = scaler2.fit_transform(X2_train)\n",
    "X2_valid_scaler = scaler2.transform(X2_valid)\n",
    "model2 = LinearRegression()\n",
    "model2.fit(X2_train_scaler, y2_train)\n",
    "predict2 = model2.predict(X2_valid_scaler)\n",
    "mean2 = predict2.mean()\n",
    "rmse2 = mean_squared_error(y2_valid, predict2, squared=False)\n",
    "print(f'Средний запас предсказанного сырья: {mean2}, значение метрики RMSE: {rmse2}')"
   ]
  },
  {
   "cell_type": "markdown",
   "id": "61dbfc07-4d3a-4194-8020-30b888924005",
   "metadata": {},
   "source": [
    "Выводы:\n",
    "- наибольший средний запас предсказанного сырья у второго месторождения (94.8) \n",
    "- на втором месте с незначительной разницей идёт нулевое месторождение (92.4)\n",
    "- наименьшие запасы у первого месторождения (68.7)\n",
    "- модель первого месторождения работает точнее всего (значение метрики RMSE там меньше единицы, а чем ближе \n",
    "  значение метрики к нулю, тем точнее модель. В тоже время у других месторождений значение метрики в районе 40)"
   ]
  },
  {
   "cell_type": "markdown",
   "id": "139b3b93-e821-4cb3-bc1f-8d7a8465849c",
   "metadata": {},
   "source": [
    "3  Шаг. Подготовка к расчёту прибыли"
   ]
  },
  {
   "cell_type": "markdown",
   "id": "db9d63ab-2c17-4d36-aef1-842d38e442dd",
   "metadata": {},
   "source": [
    "Для разработки выбирают 200 лучших скважин:"
   ]
  },
  {
   "cell_type": "code",
   "execution_count": null,
   "id": "862affef-aad1-4174-9374-fc0f2068b98c",
   "metadata": {},
   "outputs": [],
   "source": [
    "n = 200"
   ]
  },
  {
   "cell_type": "markdown",
   "id": "a7762ffe-37d8-4e8c-99cf-2c6002d7aefa",
   "metadata": {},
   "source": [
    "Бюджет на разработку скважин 10 млрд. рублей:"
   ]
  },
  {
   "cell_type": "code",
   "execution_count": null,
   "id": "1303f4f3-2323-48a3-9ad6-9cdf2ebef5bd",
   "metadata": {},
   "outputs": [],
   "source": [
    "budget = 10 * 10**9"
   ]
  },
  {
   "cell_type": "markdown",
   "id": "14647e8c-4068-40e1-8308-00071967e36d",
   "metadata": {},
   "source": [
    "Доход с единицы продукта:"
   ]
  },
  {
   "cell_type": "code",
   "execution_count": null,
   "id": "c04ef05d-9e83-40eb-bb6d-3b1733bb55a8",
   "metadata": {},
   "outputs": [],
   "source": [
    "revenue = 450000"
   ]
  },
  {
   "cell_type": "markdown",
   "id": "23118f03-e3a9-435f-845a-493f0bd21eb4",
   "metadata": {},
   "source": [
    "Сколько выделяется денег на одну скважину:"
   ]
  },
  {
   "cell_type": "code",
   "execution_count": null,
   "id": "b1845ba6-dcf8-40e8-820b-1fc858eea8f8",
   "metadata": {},
   "outputs": [],
   "source": [
    "budget_one = budget/n"
   ]
  },
  {
   "cell_type": "markdown",
   "id": "6a06ecff-680f-4981-a6f7-4e0c18785179",
   "metadata": {},
   "source": [
    "Достаточный объем сырья, для безубыточной разработки новой скважины:"
   ]
  },
  {
   "cell_type": "code",
   "execution_count": null,
   "id": "aac8bea1-a25d-40e1-88f3-2ba072e32937",
   "metadata": {},
   "outputs": [],
   "source": [
    "volume = budget_one / revenue"
   ]
  },
  {
   "cell_type": "markdown",
   "id": "653daa28-bcb2-4d6c-ab8c-4928dbdaaafa",
   "metadata": {},
   "source": [
    "Вывод:\n",
    "- в каждой скважине объем сырья должен быть не меньше, чем 111.111, что бы не возникло убытков\n",
    "- если объем будет меньше, то затраты на бурение не окупятся"
   ]
  },
  {
   "cell_type": "code",
   "execution_count": null,
   "id": "529fcccf-b250-405e-ba59-93a4dc373ef2",
   "metadata": {},
   "outputs": [],
   "source": [
    "delta0 = mean0 - volume\n",
    "delta1 = mean1 - volume\n",
    "delta2 = mean2 - volume\n",
    "display(delta0,delta1,delta2)\n",
    "np.float64(-18.712311204533435)\n",
    "np.float64(-42.39823307197351)\n",
    "np.float64(-16.340087233451726)"
   ]
  },
  {
   "cell_type": "markdown",
   "id": "1457df34-8ff3-44c5-a77e-eb0c262a80ad",
   "metadata": {},
   "source": [
    "Вывод:\n",
    "\n",
    "- средние запасы в каждом регионе меньше, необходимого для безубыточности объема\n",
    "- исходя из графиков, найти 200 месторождений с объемом продукта выше чем точка безубыточности будет не сложно.\n",
    "\n",
    "Нужно найти 200 лучших месторождений с как можно большими залежами нефти, что бы максимизировать прибыль. "
   ]
  },
  {
   "cell_type": "markdown",
   "id": "aa562d08-642a-4762-bdc0-977c5ea2af52",
   "metadata": {},
   "source": [
    "4  Шаг. Расчёт рисков и прибыли для каждого региона"
   ]
  },
  {
   "cell_type": "code",
   "execution_count": null,
   "id": "1312c551-de94-475f-b9ac-5f01f4dbb9ff",
   "metadata": {},
   "outputs": [],
   "source": [
    "def profit(data, y_true, y_predict):\n",
    "    data['predict'] = y_predict\n",
    "    data['true'] = y_true\n",
    "    data = data.sort_values(by = 'predict', ascending = False)\n",
    "    data = data.head(200)\n",
    "    profite = data['true'].sum()*450000 - budget\n",
    "    return profite"
   ]
  },
  {
   "cell_type": "code",
   "execution_count": null,
   "id": "ff00b15c-0898-4575-a9da-e7cca56acbfb",
   "metadata": {},
   "outputs": [],
   "source": [
    "state = np.random.RandomState(12345)"
   ]
  },
  {
   "cell_type": "markdown",
   "id": "153cc38c-a4f3-4172-8ab2-c155da8a9271",
   "metadata": {},
   "source": [
    "Применим технику Bootstrap с 1000 выборок, чтобы найти распределение прибыли:"
   ]
  },
  {
   "cell_type": "code",
   "execution_count": null,
   "id": "28623971-f173-497a-b459-7961f111e9c3",
   "metadata": {},
   "outputs": [],
   "source": [
    "prib0 = []\n",
    "for i in range(1000):\n",
    "    subsample = X0_valid.sample(n=500, replace = True, random_state=state)\n",
    "    prib0.append(profit(subsample, y0_valid, pd.DataFrame(predict0, index = X0_valid.index)))\n",
    "    \n",
    "prib1 = []\n",
    "for i in range(1000):\n",
    "    subsample = X1_valid.sample(n=500, replace = True, random_state=state)\n",
    "    prib1.append(profit(subsample, y1_valid, pd.DataFrame(predict1, index = X1_valid.index)))\n",
    "    \n",
    "prib2 = []\n",
    "for i in range(1000):\n",
    "    subsample = X2_valid.sample(n=500, replace = True, random_state=state)\n",
    "    prib2.append(profit(subsample, y2_valid, pd.DataFrame(predict2, index = X2_valid.index)))"
   ]
  },
  {
   "cell_type": "markdown",
   "id": "18e53444-2541-40e5-857f-287682d5f773",
   "metadata": {},
   "source": [
    "Средняя прибыль нулевого региона:"
   ]
  },
  {
   "cell_type": "code",
   "execution_count": null,
   "id": "1646d635-8e3e-42c6-9f71-6f12c13206c2",
   "metadata": {},
   "outputs": [],
   "source": [
    "pd.Series(prib0).mean()\n",
    "np.float64(406278783.42441905)"
   ]
  },
  {
   "cell_type": "markdown",
   "id": "2e9e9e9a-7608-442f-8799-2e06029d7ce7",
   "metadata": {},
   "source": [
    "Найдём 95% доверительный интервал для нулевого региона:"
   ]
  },
  {
   "cell_type": "code",
   "execution_count": null,
   "id": "ff3775e6-e17d-4769-b5d1-6a0a4966d4e9",
   "metadata": {},
   "outputs": [],
   "source": [
    "lower = pd.Series(prib0).quantile(0.025)\n",
    "upper = pd.Series(prib0).quantile(0.975)\n",
    "print(f'95%-доверительный интервал для нулевого региона от {lower} до {upper}')"
   ]
  },
  {
   "cell_type": "markdown",
   "id": "3855c320-6664-49fc-b7b3-81d5e6afc248",
   "metadata": {},
   "source": [
    "Вычислим риск убытков в нулевом регионе:"
   ]
  },
  {
   "cell_type": "code",
   "execution_count": null,
   "id": "a7550b0b-1682-48fb-9ec7-9e2a46910716",
   "metadata": {},
   "outputs": [],
   "source": [
    "len([i for i in prib0 if i<0])/len(prib0)*100 # Процент отрицательных значений в нулевом регионе"
   ]
  },
  {
   "cell_type": "markdown",
   "id": "d2bcc22e-b518-404f-ba96-4e45bd118394",
   "metadata": {},
   "source": [
    "Средняя прибыль первого региона:"
   ]
  },
  {
   "cell_type": "code",
   "execution_count": null,
   "id": "9b2b1c0d-da75-45be-b0e2-409a6084505a",
   "metadata": {},
   "outputs": [],
   "source": [
    "pd.Series(prib1).mean()\n",
    "np.float64(441504277.5922549)"
   ]
  },
  {
   "cell_type": "markdown",
   "id": "bcde5b74-632c-4634-8782-dcfa0b64a2c2",
   "metadata": {},
   "source": [
    "Найдём 95% доверительный интервал для первого региона:"
   ]
  },
  {
   "cell_type": "code",
   "execution_count": null,
   "id": "50168e63-5b1a-45b6-a24c-f5dd0f8daeb8",
   "metadata": {},
   "outputs": [],
   "source": [
    "lower = pd.Series(prib1).quantile(0.025)\n",
    "upper = pd.Series(prib1).quantile(0.975)\n",
    "print(f'95%-доверительный интервал для первого региона от {lower} до {upper}')"
   ]
  },
  {
   "cell_type": "markdown",
   "id": "218af030-8015-4be4-b6ab-edd943a90b6f",
   "metadata": {},
   "source": [
    "Вычислим риск убытков в первом регионе:"
   ]
  },
  {
   "cell_type": "code",
   "execution_count": null,
   "id": "59db1662-7947-4daa-8090-17519d1d90e4",
   "metadata": {},
   "outputs": [],
   "source": [
    "len([i for i in prib1 if i<0])/len(prib1)*100 # Процент отрицательных значений в первом регионе\n",
    "1.6"
   ]
  },
  {
   "cell_type": "markdown",
   "id": "54e21acd-5484-43a0-b957-5be1a7fca0f7",
   "metadata": {},
   "source": [
    "Средняя прибыль второго региона:"
   ]
  },
  {
   "cell_type": "code",
   "execution_count": null,
   "id": "7156c085-956a-42c5-8a69-105883a88eaf",
   "metadata": {},
   "outputs": [],
   "source": [
    "pd.Series(prib2).mean()\n",
    "np.float64(385213195.91415244)"
   ]
  },
  {
   "cell_type": "markdown",
   "id": "9c8ba404-acdc-4a87-a272-78747c73e4f7",
   "metadata": {},
   "source": [
    "Найдём 95% доверительный интервал для второго региона:"
   ]
  },
  {
   "cell_type": "code",
   "execution_count": null,
   "id": "3256f8f5-a869-4705-92c5-41884888f741",
   "metadata": {},
   "outputs": [],
   "source": [
    "lower = pd.Series(prib2).quantile(0.025)\n",
    "upper = pd.Series(prib2).quantile(0.975)\n",
    "print(f'95%-доверительный интервал для второго региона от {lower} до {upper}')"
   ]
  },
  {
   "cell_type": "markdown",
   "id": "70f225fb-b0ed-4128-ae06-543fd5a1e559",
   "metadata": {},
   "source": [
    "Вычислим риск убытков во втором регионе:"
   ]
  },
  {
   "cell_type": "code",
   "execution_count": null,
   "id": "d3dbbbd4-ec3a-47d1-887a-5765577969d7",
   "metadata": {},
   "outputs": [],
   "source": [
    "len([i for i in prib2 if i<0])/len(prib2)*100 # Процент отрицательных значений во втором регионе\n",
    "7.8"
   ]
  },
  {
   "cell_type": "markdown",
   "id": "cb19de51-6e3d-480c-a198-b6cb72c31501",
   "metadata": {},
   "source": [
    "Итоговый вывод:\n",
    "\n",
    "Для разработки месторождений предлагается регион №1 (второй по счёту).\n",
    "\n",
    "Обоснование:\n",
    "\n",
    "- Это единственный регион с вероятностью убытков меньше 2.5 \n",
    "- В доверительном интервале нет отрицательных значений, значит 95% значений - прибыль, а не убытки. \n",
    "- Среднее значение прибыли в этом регионе - 441504277.5922549 \n",
    "Поэтому именно этот регион лучше всего подойдёт для разработки"
   ]
  },
  {
   "cell_type": "code",
   "execution_count": null,
   "id": "1a476a1c-97b0-45ae-a0ed-3050a08a2136",
   "metadata": {},
   "outputs": [],
   "source": []
  }
 ],
 "metadata": {
  "kernelspec": {
   "display_name": "Python 3 (ipykernel)",
   "language": "python",
   "name": "python3"
  },
  "language_info": {
   "codemirror_mode": {
    "name": "ipython",
    "version": 3
   },
   "file_extension": ".py",
   "mimetype": "text/x-python",
   "name": "python",
   "nbconvert_exporter": "python",
   "pygments_lexer": "ipython3",
   "version": "3.12.7"
  }
 },
 "nbformat": 4,
 "nbformat_minor": 5
}
